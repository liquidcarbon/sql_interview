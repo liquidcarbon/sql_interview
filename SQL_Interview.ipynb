{
  "nbformat": 4,
  "nbformat_minor": 0,
  "metadata": {
    "colab": {
      "name": "SQL_Interview.ipynb",
      "provenance": [],
      "authorship_tag": "ABX9TyNB1hSQ3O4Og1ztCdFXgvmr",
      "include_colab_link": true
    },
    "kernelspec": {
      "name": "python3",
      "display_name": "Python 3"
    }
  },
  "cells": [
    {
      "cell_type": "markdown",
      "metadata": {
        "id": "view-in-github",
        "colab_type": "text"
      },
      "source": [
        "<a href=\"https://colab.research.google.com/github/liquidcarbon/sql_interview/blob/master/SQL_Interview.ipynb\" target=\"_parent\"><img src=\"https://colab.research.google.com/assets/colab-badge.svg\" alt=\"Open In Colab\"/></a>"
      ]
    },
    {
      "cell_type": "markdown",
      "metadata": {
        "id": "4p5F1jGvRSU3",
        "colab_type": "text"
      },
      "source": [
        "## Setup\n",
        "Add databases with data for other test questions in the same fashion.  The database will be created and populated by running the cell below.  The notebook is ready for an interview.  \n",
        "\n",
        "*Optional:* download and save the `interview.sqlite` file from the **Files** tab on the left."
      ]
    },
    {
      "cell_type": "code",
      "metadata": {
        "id": "EVQ3QDu0N4Jo",
        "colab_type": "code",
        "colab": {}
      },
      "source": [
        "import numpy as np\n",
        "import pandas as pd\n",
        "import secrets\n",
        "import sqlite3\n",
        "import time\n",
        "\n",
        "accounts = [secrets.token_hex(2) for i in range(5)]\n",
        "event_types = ['PLAY','STOP','ERROR']\n",
        "time_now = int(time.time()*1e3)\n",
        "N = 100\n",
        "df = pd.DataFrame({\n",
        "    'account': np.random.choice(accounts, size=N),\n",
        "    'event': np.random.choice(event_types, p=[.5, .3, .2], size=N),\n",
        "    'timestamp': [(time_now) - np.random.randint(0, 1e6) for i in range(N)],\n",
        "}).sort_values(['timestamp'])\n",
        "conn = sqlite3.connect('interview.sqlite')\n",
        "df.to_sql('events', conn, if_exists='replace', index=False)"
      ],
      "execution_count": 0,
      "outputs": []
    },
    {
      "cell_type": "markdown",
      "metadata": {
        "id": "KC_JWpmkZjRt",
        "colab_type": "text"
      },
      "source": [
        "## Test the database"
      ]
    },
    {
      "cell_type": "code",
      "metadata": {
        "id": "scF29-JVStVs",
        "colab_type": "code",
        "colab": {
          "base_uri": "https://localhost:8080/",
          "height": 419
        },
        "outputId": "e96c5a4f-a1d0-4794-a220-48c279a4fd5c"
      },
      "source": [
        "pd.read_sql('SELECT * FROM events', conn)"
      ],
      "execution_count": 2,
      "outputs": [
        {
          "output_type": "execute_result",
          "data": {
            "text/html": [
              "<div>\n",
              "<style scoped>\n",
              "    .dataframe tbody tr th:only-of-type {\n",
              "        vertical-align: middle;\n",
              "    }\n",
              "\n",
              "    .dataframe tbody tr th {\n",
              "        vertical-align: top;\n",
              "    }\n",
              "\n",
              "    .dataframe thead th {\n",
              "        text-align: right;\n",
              "    }\n",
              "</style>\n",
              "<table border=\"1\" class=\"dataframe\">\n",
              "  <thead>\n",
              "    <tr style=\"text-align: right;\">\n",
              "      <th></th>\n",
              "      <th>account</th>\n",
              "      <th>event</th>\n",
              "      <th>timestamp</th>\n",
              "    </tr>\n",
              "  </thead>\n",
              "  <tbody>\n",
              "    <tr>\n",
              "      <th>0</th>\n",
              "      <td>b000</td>\n",
              "      <td>STOP</td>\n",
              "      <td>1588172210445</td>\n",
              "    </tr>\n",
              "    <tr>\n",
              "      <th>1</th>\n",
              "      <td>b46b</td>\n",
              "      <td>STOP</td>\n",
              "      <td>1588172214709</td>\n",
              "    </tr>\n",
              "    <tr>\n",
              "      <th>2</th>\n",
              "      <td>349f</td>\n",
              "      <td>ERROR</td>\n",
              "      <td>1588172217595</td>\n",
              "    </tr>\n",
              "    <tr>\n",
              "      <th>3</th>\n",
              "      <td>b000</td>\n",
              "      <td>PLAY</td>\n",
              "      <td>1588172220304</td>\n",
              "    </tr>\n",
              "    <tr>\n",
              "      <th>4</th>\n",
              "      <td>de2a</td>\n",
              "      <td>ERROR</td>\n",
              "      <td>1588172231575</td>\n",
              "    </tr>\n",
              "    <tr>\n",
              "      <th>...</th>\n",
              "      <td>...</td>\n",
              "      <td>...</td>\n",
              "      <td>...</td>\n",
              "    </tr>\n",
              "    <tr>\n",
              "      <th>95</th>\n",
              "      <td>349f</td>\n",
              "      <td>PLAY</td>\n",
              "      <td>1588173155454</td>\n",
              "    </tr>\n",
              "    <tr>\n",
              "      <th>96</th>\n",
              "      <td>806c</td>\n",
              "      <td>STOP</td>\n",
              "      <td>1588173159989</td>\n",
              "    </tr>\n",
              "    <tr>\n",
              "      <th>97</th>\n",
              "      <td>de2a</td>\n",
              "      <td>PLAY</td>\n",
              "      <td>1588173169490</td>\n",
              "    </tr>\n",
              "    <tr>\n",
              "      <th>98</th>\n",
              "      <td>b46b</td>\n",
              "      <td>PLAY</td>\n",
              "      <td>1588173174259</td>\n",
              "    </tr>\n",
              "    <tr>\n",
              "      <th>99</th>\n",
              "      <td>de2a</td>\n",
              "      <td>ERROR</td>\n",
              "      <td>1588173188615</td>\n",
              "    </tr>\n",
              "  </tbody>\n",
              "</table>\n",
              "<p>100 rows × 3 columns</p>\n",
              "</div>"
            ],
            "text/plain": [
              "   account  event      timestamp\n",
              "0     b000   STOP  1588172210445\n",
              "1     b46b   STOP  1588172214709\n",
              "2     349f  ERROR  1588172217595\n",
              "3     b000   PLAY  1588172220304\n",
              "4     de2a  ERROR  1588172231575\n",
              "..     ...    ...            ...\n",
              "95    349f   PLAY  1588173155454\n",
              "96    806c   STOP  1588173159989\n",
              "97    de2a   PLAY  1588173169490\n",
              "98    b46b   PLAY  1588173174259\n",
              "99    de2a  ERROR  1588173188615\n",
              "\n",
              "[100 rows x 3 columns]"
            ]
          },
          "metadata": {
            "tags": []
          },
          "execution_count": 2
        }
      ]
    },
    {
      "cell_type": "markdown",
      "metadata": {
        "id": "dOBfq0OTT7sm",
        "colab_type": "text"
      },
      "source": [
        "## Sample Task\n",
        "We have a table `events` that looks like this:\n",
        "```\n",
        "events (\n",
        "  account STRING,\n",
        "  event STRING,\n",
        "  timestamp DATETIME\n",
        ")\n",
        "```\n",
        "Provide counts of each event type for each account.\n",
        "```\n",
        "output (\n",
        "  account STRING,\n",
        "  event1_count INT,\n",
        "  event2_count INT,\n",
        "  event3_count INT\n",
        ")\n",
        "```"
      ]
    },
    {
      "cell_type": "code",
      "metadata": {
        "id": "Is9iiKX1OWIO",
        "colab_type": "code",
        "colab": {}
      },
      "source": [
        "# populate the query to solve the problem\n",
        "q = '''\n",
        "\n",
        "'''\n",
        "# result = pd.read_sql(q, conn)\n",
        "# result"
      ],
      "execution_count": 0,
      "outputs": []
    },
    {
      "cell_type": "code",
      "metadata": {
        "id": "Ps7WhHlUUkYh",
        "colab_type": "code",
        "colab": {
          "base_uri": "https://localhost:8080/",
          "height": 204
        },
        "outputId": "49c98718-3e6f-4a98-85ff-1fe8d3430e7e"
      },
      "source": [
        "# solution - using CASE because SQLite does not have IF\n",
        "q = '''\n",
        "SELECT\n",
        "  account\n",
        "  ,SUM(CASE event WHEN 'PLAY' THEN 1 ELSE 0 END)  AS count_PLAY\n",
        "  ,SUM(CASE event WHEN 'STOP' THEN 1 ELSE 0 END)  AS count_STOP\n",
        "  ,SUM(CASE event WHEN 'ERROR' THEN 1 ELSE 0 END) AS count_ERROR\n",
        "FROM events\n",
        "GROUP BY account\n",
        "'''\n",
        "result = pd.read_sql(q, conn)\n",
        "result"
      ],
      "execution_count": 4,
      "outputs": [
        {
          "output_type": "execute_result",
          "data": {
            "text/html": [
              "<div>\n",
              "<style scoped>\n",
              "    .dataframe tbody tr th:only-of-type {\n",
              "        vertical-align: middle;\n",
              "    }\n",
              "\n",
              "    .dataframe tbody tr th {\n",
              "        vertical-align: top;\n",
              "    }\n",
              "\n",
              "    .dataframe thead th {\n",
              "        text-align: right;\n",
              "    }\n",
              "</style>\n",
              "<table border=\"1\" class=\"dataframe\">\n",
              "  <thead>\n",
              "    <tr style=\"text-align: right;\">\n",
              "      <th></th>\n",
              "      <th>account</th>\n",
              "      <th>count_PLAY</th>\n",
              "      <th>count_STOP</th>\n",
              "      <th>count_ERROR</th>\n",
              "    </tr>\n",
              "  </thead>\n",
              "  <tbody>\n",
              "    <tr>\n",
              "      <th>0</th>\n",
              "      <td>349f</td>\n",
              "      <td>6</td>\n",
              "      <td>5</td>\n",
              "      <td>10</td>\n",
              "    </tr>\n",
              "    <tr>\n",
              "      <th>1</th>\n",
              "      <td>806c</td>\n",
              "      <td>11</td>\n",
              "      <td>3</td>\n",
              "      <td>3</td>\n",
              "    </tr>\n",
              "    <tr>\n",
              "      <th>2</th>\n",
              "      <td>b000</td>\n",
              "      <td>9</td>\n",
              "      <td>8</td>\n",
              "      <td>4</td>\n",
              "    </tr>\n",
              "    <tr>\n",
              "      <th>3</th>\n",
              "      <td>b46b</td>\n",
              "      <td>11</td>\n",
              "      <td>6</td>\n",
              "      <td>5</td>\n",
              "    </tr>\n",
              "    <tr>\n",
              "      <th>4</th>\n",
              "      <td>de2a</td>\n",
              "      <td>8</td>\n",
              "      <td>6</td>\n",
              "      <td>5</td>\n",
              "    </tr>\n",
              "  </tbody>\n",
              "</table>\n",
              "</div>"
            ],
            "text/plain": [
              "  account  count_PLAY  count_STOP  count_ERROR\n",
              "0    349f           6           5           10\n",
              "1    806c          11           3            3\n",
              "2    b000           9           8            4\n",
              "3    b46b          11           6            5\n",
              "4    de2a           8           6            5"
            ]
          },
          "metadata": {
            "tags": []
          },
          "execution_count": 4
        }
      ]
    }
  ]
}